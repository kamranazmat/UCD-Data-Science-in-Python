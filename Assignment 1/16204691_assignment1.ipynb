{
 "cells": [
  {
   "cell_type": "code",
   "execution_count": 1,
   "metadata": {
    "collapsed": false
   },
   "outputs": [],
   "source": [
    "import matplotlib.pyplot as plt\n",
    "import pandas as pd"
   ]
  },
  {
   "cell_type": "code",
   "execution_count": 2,
   "metadata": {
    "collapsed": true
   },
   "outputs": [],
   "source": [
    "import requests"
   ]
  },
  {
   "cell_type": "code",
   "execution_count": 4,
   "metadata": {
    "collapsed": false,
    "scrolled": true
   },
   "outputs": [],
   "source": [
    "r = requests.get('http://api.fixer.io/2001-01-03?base=EUR')"
   ]
  },
  {
   "cell_type": "code",
   "execution_count": 5,
   "metadata": {
    "collapsed": false
   },
   "outputs": [
    {
     "data": {
      "text/plain": [
       "{u'base': u'EUR',\n",
       " u'date': u'2001-01-03',\n",
       " u'rates': {u'AUD': 1.6915,\n",
       "  u'BGN': 1.9558,\n",
       "  u'CAD': 1.4266,\n",
       "  u'CHF': 1.522,\n",
       "  u'CYP': 0.57498,\n",
       "  u'CZK': 35.375,\n",
       "  u'DKK': 7.4595,\n",
       "  u'EEK': 15.647,\n",
       "  u'GBP': 0.6325,\n",
       "  u'HKD': 7.4333,\n",
       "  u'HUF': 264.55,\n",
       "  u'ISK': 79.92,\n",
       "  u'JPY': 108.88,\n",
       "  u'KRW': 1211.2,\n",
       "  u'LTL': 3.813,\n",
       "  u'LVL': 0.5843,\n",
       "  u'MTL': 0.411,\n",
       "  u'NOK': 8.3145,\n",
       "  u'NZD': 2.1272,\n",
       "  u'PLN': 3.903,\n",
       "  u'ROL': 24730.0,\n",
       "  u'SEK': 8.9467,\n",
       "  u'SGD': 1.6505,\n",
       "  u'SIT': 213.55,\n",
       "  u'SKK': 43.988,\n",
       "  u'TRL': 632960.0,\n",
       "  u'USD': 0.953,\n",
       "  u'ZAR': 7.1313}}"
      ]
     },
     "execution_count": 5,
     "metadata": {},
     "output_type": "execute_result"
    }
   ],
   "source": [
    "r.json()"
   ]
  },
  {
   "cell_type": "code",
   "execution_count": null,
   "metadata": {
    "collapsed": true
   },
   "outputs": [],
   "source": []
  }
 ],
 "metadata": {
  "kernelspec": {
   "display_name": "Python [default]",
   "language": "python",
   "name": "python2"
  },
  "language_info": {
   "codemirror_mode": {
    "name": "ipython",
    "version": 2
   },
   "file_extension": ".py",
   "mimetype": "text/x-python",
   "name": "python",
   "nbconvert_exporter": "python",
   "pygments_lexer": "ipython2",
   "version": "2.7.13"
  }
 },
 "nbformat": 4,
 "nbformat_minor": 2
}
